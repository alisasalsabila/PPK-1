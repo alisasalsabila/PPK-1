{
 "cells": [
  {
   "cell_type": "code",
   "execution_count": 6,
   "id": "046c2b64-a6c0-4143-b231-772cbb6a6404",
   "metadata": {},
   "outputs": [],
   "source": [
    "def salam(alisa):\n",
    "    \"\"\"Function ini akan memberikan salam kepada seseorang yang namanya ditulis pada argumen\"\"\"\n",
    "    print(\"Assalamualaikum, \",alisa+\"!\")"
   ]
  },
  {
   "cell_type": "code",
   "execution_count": 7,
   "id": "611b21a5-2493-4ada-9de4-c3df45c414da",
   "metadata": {},
   "outputs": [
    {
     "name": "stdout",
     "output_type": "stream",
     "text": [
      "Assalamualaikum,  alisa!\n"
     ]
    }
   ],
   "source": [
    "salam('alisa')"
   ]
  },
  {
   "cell_type": "code",
   "execution_count": 8,
   "id": "1693d449-cfe2-43c8-80a8-307b254e1b62",
   "metadata": {},
   "outputs": [
    {
     "name": "stdout",
     "output_type": "stream",
     "text": [
      "Function ini akan memberikan salam kepada seseorang yang namanya ditulis pada argumen\n"
     ]
    }
   ],
   "source": [
    "print(salam.__doc__)"
   ]
  },
  {
   "cell_type": "markdown",
   "id": "01afb05a-1523-4c4f-be56-6d96a0779839",
   "metadata": {},
   "source": [
    "# Algorithm 4.1"
   ]
  },
  {
   "cell_type": "code",
   "execution_count": 9,
   "id": "119ee72b-ab1a-4e9d-85d1-76b2063df818",
   "metadata": {},
   "outputs": [
    {
     "data": {
      "text/plain": [
       "50"
      ]
     },
     "execution_count": 9,
     "metadata": {},
     "output_type": "execute_result"
    }
   ],
   "source": [
    "def kali(a,b):\n",
    "    c=a*b\n",
    "    return c # mengembalikan nilai ke baris pemanggil\n",
    "def tulis(s):\n",
    "    print(s)\n",
    "z=kali(10,5)\n",
    "z"
   ]
  },
  {
   "cell_type": "code",
   "execution_count": 12,
   "id": "ac0ca8c1-c2f0-4cd7-b69a-e8299ee55c37",
   "metadata": {},
   "outputs": [
    {
     "name": "stdout",
     "output_type": "stream",
     "text": [
      "Pemrograman Komputer I dengan Python\n",
      "50\n"
     ]
    }
   ],
   "source": [
    "tulis('Pemrograman Komputer I dengan Python') \n",
    "tulis(z)"
   ]
  },
  {
   "cell_type": "markdown",
   "id": "f26be799-211f-40ec-9b60-9092389dbcc0",
   "metadata": {},
   "source": [
    "# Algorithm 4.2"
   ]
  },
  {
   "cell_type": "code",
   "execution_count": 1,
   "id": "26343222-086c-423b-8149-944bd02a0fb0",
   "metadata": {},
   "outputs": [],
   "source": [
    "def persentase(a,b,c):\n",
    "    def hitungPersen(x):\n",
    "        total=a+b+c\n",
    "        return(x*100.0)/total\n",
    "    print(\"Persentase: %f\\t%f\\t%f\" %\n",
    "          (hitungPersen(a),hitungPersen(b),hitungPersen(c)))"
   ]
  },
  {
   "cell_type": "code",
   "execution_count": 2,
   "id": "04262664-69ec-44b7-98b1-6272653c2fbb",
   "metadata": {},
   "outputs": [
    {
     "name": "stdout",
     "output_type": "stream",
     "text": [
      "Persentase: 33.333333\t33.333333\t33.333333\n"
     ]
    }
   ],
   "source": [
    "persentase(50,50,50)"
   ]
  },
  {
   "cell_type": "code",
   "execution_count": 3,
   "id": "99aa0a36-4ee7-42c7-b247-8caa2a5259a5",
   "metadata": {},
   "outputs": [
    {
     "name": "stdout",
     "output_type": "stream",
     "text": [
      "Persentase: 15.789474\t47.368421\t36.842105\n"
     ]
    }
   ],
   "source": [
    "persentase(30,90,70)"
   ]
  },
  {
   "cell_type": "markdown",
   "id": "30e01252-75e4-4fda-a5fa-392783935929",
   "metadata": {},
   "source": [
    "# Algorithm 4.3"
   ]
  },
  {
   "cell_type": "code",
   "execution_count": 6,
   "id": "bd280e0f-268f-4515-9f61-225ef71fbbdc",
   "metadata": {},
   "outputs": [],
   "source": [
    "maks = lambda a,b: a if a>b else b"
   ]
  },
  {
   "cell_type": "code",
   "execution_count": 7,
   "id": "a60436e1-5e18-4e75-851b-16c78e3908dc",
   "metadata": {},
   "outputs": [
    {
     "data": {
      "text/plain": [
       "20"
      ]
     },
     "execution_count": 7,
     "metadata": {},
     "output_type": "execute_result"
    }
   ],
   "source": [
    "maks(20,10)"
   ]
  },
  {
   "cell_type": "code",
   "execution_count": 8,
   "id": "be80db91-41e3-461d-8c89-63124d41b6ee",
   "metadata": {},
   "outputs": [
    {
     "data": {
      "text/plain": [
       "500"
      ]
     },
     "execution_count": 8,
     "metadata": {},
     "output_type": "execute_result"
    }
   ],
   "source": [
    "maks(100,500)"
   ]
  },
  {
   "cell_type": "markdown",
   "id": "b8dd0093-67a6-4194-862b-327730b79704",
   "metadata": {},
   "source": [
    "# Algorithm 4.4"
   ]
  },
  {
   "cell_type": "code",
   "execution_count": 9,
   "id": "8627c49f-7326-4d1e-b81f-1b9b9b32f740",
   "metadata": {},
   "outputs": [],
   "source": [
    "def maks(a,b):\n",
    "    if a>b:\n",
    "        return a\n",
    "    else :\n",
    "        return b"
   ]
  },
  {
   "cell_type": "code",
   "execution_count": 10,
   "id": "6823b9c0-c7ef-466c-9b4d-3467fc7bead2",
   "metadata": {},
   "outputs": [
    {
     "data": {
      "text/plain": [
       "20"
      ]
     },
     "execution_count": 10,
     "metadata": {},
     "output_type": "execute_result"
    }
   ],
   "source": [
    "maks(20,10)"
   ]
  },
  {
   "cell_type": "code",
   "execution_count": 11,
   "id": "8b85e04d-f06e-485e-9ae9-44ec445c6cb1",
   "metadata": {},
   "outputs": [
    {
     "data": {
      "text/plain": [
       "500"
      ]
     },
     "execution_count": 11,
     "metadata": {},
     "output_type": "execute_result"
    }
   ],
   "source": [
    "maks(100,500)"
   ]
  },
  {
   "cell_type": "markdown",
   "id": "d726aabc-b2df-4a8b-892d-9cd7e8c24942",
   "metadata": {},
   "source": [
    "# Algorithm 4.5"
   ]
  },
  {
   "cell_type": "code",
   "execution_count": 12,
   "id": "cceaa372-313f-46e3-a115-29509abeffd5",
   "metadata": {},
   "outputs": [],
   "source": [
    "def tulis(s, gantibaris=True):\n",
    "    if not gantibaris:\n",
    "        print(s,end='')\n",
    "    else :\n",
    "        print(s)"
   ]
  },
  {
   "cell_type": "code",
   "execution_count": 13,
   "id": "fba9c9ac-685a-4110-9d2e-b0825c8546d2",
   "metadata": {},
   "outputs": [
    {
     "name": "stdout",
     "output_type": "stream",
     "text": [
      "Python\n"
     ]
    }
   ],
   "source": [
    "tulis('Python')"
   ]
  },
  {
   "cell_type": "code",
   "execution_count": 14,
   "id": "56fd13ae-6c66-4ec0-8cd7-685db348ea79",
   "metadata": {},
   "outputs": [
    {
     "name": "stdout",
     "output_type": "stream",
     "text": [
      "Pyhton dan Ruby\n"
     ]
    }
   ],
   "source": [
    "tulis('Pyhton',False);tulis(' dan Ruby')"
   ]
  },
  {
   "cell_type": "code",
   "execution_count": 15,
   "id": "570a094a-1610-43e5-9257-380df504cb1d",
   "metadata": {},
   "outputs": [
    {
     "name": "stdout",
     "output_type": "stream",
     "text": [
      "Alisa\n",
      "Salsa\n"
     ]
    }
   ],
   "source": [
    "tulis('Alisa');tulis('Salsa')"
   ]
  },
  {
   "cell_type": "markdown",
   "id": "f3205be8-1acc-4c53-be37-559987c4072f",
   "metadata": {},
   "source": [
    "# Return Statement"
   ]
  },
  {
   "cell_type": "code",
   "execution_count": 17,
   "id": "d3a4e289-8d83-4e48-80dc-33ccebfd4bff",
   "metadata": {},
   "outputs": [],
   "source": [
    "def absolute_value(num):\n",
    "    \"\"\"Function ini mengembalikan nilai absolut dari nilai yang diberikan pada argumen\"\"\"\n",
    "    if num >= 0:\n",
    "        return num\n",
    "    else:\n",
    "        return -num"
   ]
  },
  {
   "cell_type": "code",
   "execution_count": 18,
   "id": "58b3644d-1edf-42e5-a5a6-24589d60db88",
   "metadata": {},
   "outputs": [
    {
     "name": "stdout",
     "output_type": "stream",
     "text": [
      "100\n"
     ]
    }
   ],
   "source": [
    "a = absolute_value(-100)\n",
    "print(a)"
   ]
  },
  {
   "cell_type": "markdown",
   "id": "808e2d64-6d9e-4a42-ac87-6b022263ccb2",
   "metadata": {
    "tags": []
   },
   "source": [
    "# Arguments"
   ]
  },
  {
   "cell_type": "code",
   "execution_count": 19,
   "id": "bcff377c-7120-43ac-83fd-1bd9ce34dfa5",
   "metadata": {},
   "outputs": [],
   "source": [
    "def luasSegitiga(tinggi,alas):\n",
    "    \"\"\"Menghitung luas segitiga\"\"\"\n",
    "    luas = 0.5*alas*tinggi\n",
    "    luasp = alas*tinggi\n",
    "    return [luas,luasp]"
   ]
  },
  {
   "cell_type": "code",
   "execution_count": 20,
   "id": "e3c649bf-2f9b-4848-b450-1edaf890e843",
   "metadata": {},
   "outputs": [
    {
     "name": "stdout",
     "output_type": "stream",
     "text": [
      "[10.5, 21]\n"
     ]
    }
   ],
   "source": [
    "a = luasSegitiga(7,3)\n",
    "print(a)"
   ]
  },
  {
   "cell_type": "code",
   "execution_count": 3,
   "id": "f953059e-237e-432f-a7d3-f955853cd7b9",
   "metadata": {},
   "outputs": [
    {
     "name": "stdout",
     "output_type": "stream",
     "text": [
      "Assalamualaikum, Alisa!\n",
      "Alisa, Salam!\n"
     ]
    }
   ],
   "source": [
    "def salam(nama, slm=\"Assalamualaikum\"):\n",
    "    \"\"\"Function ini akan memberikan salam sesuai argumen slm, jika tidak diberikan maka defaulnya adalah Assalamualaikum kepada seseorang yang namanya ditulis pada argumen\"\"\"\n",
    "    print(slm+\", \"+nama+\"!\")\n",
    "salam('Alisa')\n",
    "salam('Salam','Alisa')"
   ]
  },
  {
   "cell_type": "code",
   "execution_count": 4,
   "id": "e0b43985-c01a-4a94-91c5-5e0213469976",
   "metadata": {},
   "outputs": [
    {
     "name": "stdout",
     "output_type": "stream",
     "text": [
      "Assalamualaikum Alisa\n",
      "Assalamualaikum Salsa\n",
      "Assalamualaikum Bila\n",
      "Assalamualaikum Belajar\n",
      "Assalamualaikum PPK\n"
     ]
    }
   ],
   "source": [
    "def salam2(*names):\n",
    "    \"\"\"Funciton ini akan memberikan salam kepada semua orang yang namanya ada pada tuple\"\"\"\n",
    "    for name in names:\n",
    "        print(\"Assalamualaikum\",name)\n",
    "salam2(\"Alisa\",\"Salsa\",\"Bila\",\"Belajar\",\"PPK\")"
   ]
  },
  {
   "cell_type": "code",
   "execution_count": null,
   "id": "dc6da9e8-d682-47b4-9231-35a22cd7d52c",
   "metadata": {},
   "outputs": [],
   "source": []
  },
  {
   "cell_type": "code",
   "execution_count": null,
   "id": "f6eefa57-da41-4afa-a29e-8ee1578b54b2",
   "metadata": {},
   "outputs": [],
   "source": []
  },
  {
   "cell_type": "code",
   "execution_count": null,
   "id": "e3f229ca-b9a7-489a-8230-5aad7fe15327",
   "metadata": {},
   "outputs": [],
   "source": []
  },
  {
   "cell_type": "code",
   "execution_count": null,
   "id": "2ee2cf0d-9040-4a0e-9b09-156ae0f6b42a",
   "metadata": {},
   "outputs": [],
   "source": []
  }
 ],
 "metadata": {
  "kernelspec": {
   "display_name": "Python 3 (ipykernel)",
   "language": "python",
   "name": "python3"
  },
  "language_info": {
   "codemirror_mode": {
    "name": "ipython",
    "version": 3
   },
   "file_extension": ".py",
   "mimetype": "text/x-python",
   "name": "python",
   "nbconvert_exporter": "python",
   "pygments_lexer": "ipython3",
   "version": "3.10.2"
  }
 },
 "nbformat": 4,
 "nbformat_minor": 5
}
