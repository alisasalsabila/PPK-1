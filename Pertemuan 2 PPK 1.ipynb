{
 "cells": [
  {
   "cell_type": "markdown",
   "id": "d8145a27-aeb3-42e7-a1b6-8c384aa8c1c2",
   "metadata": {},
   "source": [
    "# Algorithm 2.1"
   ]
  },
  {
   "cell_type": "code",
   "execution_count": 1,
   "id": "6c6b48de-2a3d-4e52-885e-253723bb6a93",
   "metadata": {},
   "outputs": [
    {
     "data": {
      "text/plain": [
       "int"
      ]
     },
     "execution_count": 1,
     "metadata": {},
     "output_type": "execute_result"
    }
   ],
   "source": [
    "a=12345\n",
    "type(a)"
   ]
  },
  {
   "cell_type": "code",
   "execution_count": 2,
   "id": "4bf87ae9-6be7-49c5-a2fc-f3bd0ed929c6",
   "metadata": {},
   "outputs": [
    {
     "data": {
      "text/plain": [
       "str"
      ]
     },
     "execution_count": 2,
     "metadata": {},
     "output_type": "execute_result"
    }
   ],
   "source": [
    "b=str(a)\n",
    "b'12345'\n",
    "type(b)"
   ]
  },
  {
   "cell_type": "markdown",
   "id": "0b7d1ac3-4d3b-4ac7-830d-2f1c0765cd24",
   "metadata": {},
   "source": [
    "# Algorithm 2.2"
   ]
  },
  {
   "cell_type": "code",
   "execution_count": 3,
   "id": "e72d5369-e1b1-4089-9fb5-fb58ad1d1da0",
   "metadata": {},
   "outputs": [
    {
     "data": {
      "text/plain": [
       "str"
      ]
     },
     "execution_count": 3,
     "metadata": {},
     "output_type": "execute_result"
    }
   ],
   "source": [
    "a='12345'\n",
    "type(a)"
   ]
  },
  {
   "cell_type": "code",
   "execution_count": 10,
   "id": "03a695b9-09fe-487f-b520-5c516b6c4760",
   "metadata": {},
   "outputs": [
    {
     "data": {
      "text/plain": [
       "int"
      ]
     },
     "execution_count": 10,
     "metadata": {},
     "output_type": "execute_result"
    }
   ],
   "source": [
    "b=int(a)\n",
    "b=12345\n",
    "type(b)"
   ]
  },
  {
   "cell_type": "markdown",
   "id": "abc663fe-1c2f-4535-87d5-2ee78544d753",
   "metadata": {},
   "source": [
    "# Algorithm 2.3"
   ]
  },
  {
   "cell_type": "code",
   "execution_count": 5,
   "id": "0a9b9b6c-bc6b-4a7d-92ee-495fcf3aca21",
   "metadata": {},
   "outputs": [
    {
     "data": {
      "text/plain": [
       "1"
      ]
     },
     "execution_count": 5,
     "metadata": {},
     "output_type": "execute_result"
    }
   ],
   "source": [
    "int(True)"
   ]
  },
  {
   "cell_type": "code",
   "execution_count": 9,
   "id": "8423e314-0686-4106-b01d-e4a3b5eb95fc",
   "metadata": {},
   "outputs": [
    {
     "data": {
      "text/plain": [
       "0"
      ]
     },
     "execution_count": 9,
     "metadata": {},
     "output_type": "execute_result"
    }
   ],
   "source": [
    "int(False)"
   ]
  },
  {
   "cell_type": "code",
   "execution_count": 11,
   "id": "c462cfbf-c3ad-4366-a681-4da95ba751bc",
   "metadata": {},
   "outputs": [
    {
     "data": {
      "text/plain": [
       "bool"
      ]
     },
     "execution_count": 11,
     "metadata": {},
     "output_type": "execute_result"
    }
   ],
   "source": [
    "a=True\n",
    "type(a)"
   ]
  },
  {
   "cell_type": "code",
   "execution_count": 12,
   "id": "fe0452cf-6054-44c8-801c-a0e5855ef7f1",
   "metadata": {},
   "outputs": [
    {
     "data": {
      "text/plain": [
       "1"
      ]
     },
     "execution_count": 12,
     "metadata": {},
     "output_type": "execute_result"
    }
   ],
   "source": [
    "int(a)"
   ]
  },
  {
   "cell_type": "markdown",
   "id": "ae03c0f3-8a94-4790-a074-de4904c15bc3",
   "metadata": {},
   "source": [
    "# Algorithm 2.4"
   ]
  },
  {
   "cell_type": "code",
   "execution_count": 13,
   "id": "ded7db4f-6855-4429-bb28-ce1dcfc223aa",
   "metadata": {},
   "outputs": [
    {
     "data": {
      "text/plain": [
       "123.456"
      ]
     },
     "execution_count": 13,
     "metadata": {},
     "output_type": "execute_result"
    }
   ],
   "source": [
    "a=123.456\n",
    "a"
   ]
  },
  {
   "cell_type": "code",
   "execution_count": 14,
   "id": "8ad50de8-f779-4729-b98a-933f26456433",
   "metadata": {},
   "outputs": [
    {
     "data": {
      "text/plain": [
       "float"
      ]
     },
     "execution_count": 14,
     "metadata": {},
     "output_type": "execute_result"
    }
   ],
   "source": [
    "type(a)"
   ]
  },
  {
   "cell_type": "code",
   "execution_count": 15,
   "id": "ba3b6e80-93af-47a4-a357-cf156fa8f986",
   "metadata": {},
   "outputs": [
    {
     "data": {
      "text/plain": [
       "246.912"
      ]
     },
     "execution_count": 15,
     "metadata": {},
     "output_type": "execute_result"
    }
   ],
   "source": [
    "a*2"
   ]
  },
  {
   "cell_type": "markdown",
   "id": "b130e23c-5a37-4892-b4e0-3533354ad142",
   "metadata": {},
   "source": [
    "# Algorithm 2.5"
   ]
  },
  {
   "cell_type": "code",
   "execution_count": 16,
   "id": "c3300b2b-3069-4b72-8b06-1dc700be2dd3",
   "metadata": {},
   "outputs": [
    {
     "data": {
      "text/plain": [
       "0.00089"
      ]
     },
     "execution_count": 16,
     "metadata": {},
     "output_type": "execute_result"
    }
   ],
   "source": [
    "a=8.9e-4\n",
    "a"
   ]
  },
  {
   "cell_type": "markdown",
   "id": "3e2e8f68-dc9a-48d2-8f77-7620c5f7e1ea",
   "metadata": {},
   "source": [
    "# Algorithm 2.6"
   ]
  },
  {
   "cell_type": "code",
   "execution_count": 17,
   "id": "953ce62b-680e-4c36-863f-eead5372892b",
   "metadata": {},
   "outputs": [
    {
     "data": {
      "text/plain": [
       "float"
      ]
     },
     "execution_count": 17,
     "metadata": {},
     "output_type": "execute_result"
    }
   ],
   "source": [
    "a=123.456\n",
    "type(a)"
   ]
  },
  {
   "cell_type": "code",
   "execution_count": 18,
   "id": "1ca75bbb-bb19-4ca9-ad7f-32f2b802d67d",
   "metadata": {},
   "outputs": [
    {
     "data": {
      "text/plain": [
       "'123.456'"
      ]
     },
     "execution_count": 18,
     "metadata": {},
     "output_type": "execute_result"
    }
   ],
   "source": [
    "b=str(a)\n",
    "b"
   ]
  },
  {
   "cell_type": "code",
   "execution_count": 19,
   "id": "75dc64c0-98e9-4b20-bfa5-742a70e52a45",
   "metadata": {},
   "outputs": [
    {
     "data": {
      "text/plain": [
       "str"
      ]
     },
     "execution_count": 19,
     "metadata": {},
     "output_type": "execute_result"
    }
   ],
   "source": [
    "type(b)"
   ]
  },
  {
   "cell_type": "code",
   "execution_count": 20,
   "id": "e7ebbef7-4913-43f6-bdc5-159ee3d4325c",
   "metadata": {},
   "outputs": [
    {
     "data": {
      "text/plain": [
       "123.456"
      ]
     },
     "execution_count": 20,
     "metadata": {},
     "output_type": "execute_result"
    }
   ],
   "source": [
    "c=float(b)\n",
    "c"
   ]
  },
  {
   "cell_type": "code",
   "execution_count": 21,
   "id": "128a044e-6362-41be-94d5-a6bb1ef4444a",
   "metadata": {},
   "outputs": [
    {
     "data": {
      "text/plain": [
       "float"
      ]
     },
     "execution_count": 21,
     "metadata": {},
     "output_type": "execute_result"
    }
   ],
   "source": [
    "type(c)"
   ]
  },
  {
   "cell_type": "markdown",
   "id": "5c6a205a-67bc-4b0a-9920-0f987fe66b32",
   "metadata": {},
   "source": [
    "# Algorithm 2.7"
   ]
  },
  {
   "cell_type": "code",
   "execution_count": 22,
   "id": "3746eedd-a6d0-4b0f-ba86-c1607fc2c03f",
   "metadata": {},
   "outputs": [
    {
     "data": {
      "text/plain": [
       "(-9+17j)"
      ]
     },
     "execution_count": 22,
     "metadata": {},
     "output_type": "execute_result"
    }
   ],
   "source": [
    "a=-9+17j\n",
    "a"
   ]
  },
  {
   "cell_type": "code",
   "execution_count": 23,
   "id": "fe823ffb-a915-41ff-9b51-7896e9fe7b3e",
   "metadata": {},
   "outputs": [
    {
     "data": {
      "text/plain": [
       "complex"
      ]
     },
     "execution_count": 23,
     "metadata": {},
     "output_type": "execute_result"
    }
   ],
   "source": [
    "type(a)"
   ]
  },
  {
   "cell_type": "code",
   "execution_count": 24,
   "id": "9b26ac96-c8d6-4c39-ab44-96c30cdc2e2b",
   "metadata": {},
   "outputs": [
    {
     "data": {
      "text/plain": [
       "-9.0"
      ]
     },
     "execution_count": 24,
     "metadata": {},
     "output_type": "execute_result"
    }
   ],
   "source": [
    "a.real"
   ]
  },
  {
   "cell_type": "code",
   "execution_count": 25,
   "id": "c89b5182-1661-40f1-88ba-78865bbec172",
   "metadata": {},
   "outputs": [
    {
     "data": {
      "text/plain": [
       "17.0"
      ]
     },
     "execution_count": 25,
     "metadata": {},
     "output_type": "execute_result"
    }
   ],
   "source": [
    "a.imag"
   ]
  },
  {
   "cell_type": "markdown",
   "id": "4fdc64c0-6ca5-47c8-9abc-58ca65501edf",
   "metadata": {},
   "source": [
    "# Algorithm 2.8"
   ]
  },
  {
   "cell_type": "code",
   "execution_count": 26,
   "id": "7d880a08-7649-4dc5-bdee-8ea8706ce6f4",
   "metadata": {},
   "outputs": [
    {
     "data": {
      "text/plain": [
       "'PyQt'"
      ]
     },
     "execution_count": 26,
     "metadata": {},
     "output_type": "execute_result"
    }
   ],
   "source": [
    "s1='PyQt'\n",
    "s1"
   ]
  },
  {
   "cell_type": "code",
   "execution_count": 27,
   "id": "0114eadd-e7f0-41f3-b991-8c4748edbd2f",
   "metadata": {},
   "outputs": [
    {
     "data": {
      "text/plain": [
       "'Python'"
      ]
     },
     "execution_count": 27,
     "metadata": {},
     "output_type": "execute_result"
    }
   ],
   "source": [
    "s2=\"Python\"\n",
    "s2"
   ]
  },
  {
   "cell_type": "code",
   "execution_count": 29,
   "id": "e6f2fc33-2ead-4808-8f66-8cb7ae086389",
   "metadata": {},
   "outputs": [
    {
     "data": {
      "text/plain": [
       "' Pemrograman GUI dengan Python dan PyQt '"
      ]
     },
     "execution_count": 29,
     "metadata": {},
     "output_type": "execute_result"
    }
   ],
   "source": [
    "s3=''' Pemrograman GUI dengan Python dan PyQt '''\n",
    "s3='\\nPemrograman GUI\\ndengan Python dan PyQt\\n'\n",
    "s4=\"\"\" Pemrograman GUI dengan Python dan PyQt \"\"\"\n",
    "s4"
   ]
  },
  {
   "cell_type": "code",
   "execution_count": 30,
   "id": "e5a49290-701c-45f4-805f-ec829dbb1566",
   "metadata": {},
   "outputs": [
    {
     "data": {
      "text/plain": [
       "'python'"
      ]
     },
     "execution_count": 30,
     "metadata": {},
     "output_type": "execute_result"
    }
   ],
   "source": [
    "b='python'\n",
    "b"
   ]
  },
  {
   "cell_type": "code",
   "execution_count": 31,
   "id": "4642e45f-5cf4-4486-8783-68c018debeaa",
   "metadata": {},
   "outputs": [
    {
     "data": {
      "text/plain": [
       "'Python'"
      ]
     },
     "execution_count": 31,
     "metadata": {},
     "output_type": "execute_result"
    }
   ],
   "source": [
    "b=b.capitalize()\n",
    "b"
   ]
  },
  {
   "cell_type": "code",
   "execution_count": 32,
   "id": "fa93714c-1deb-4d70-a876-5ce34b0a1f60",
   "metadata": {},
   "outputs": [
    {
     "data": {
      "text/plain": [
       "'PYTHON'"
      ]
     },
     "execution_count": 32,
     "metadata": {},
     "output_type": "execute_result"
    }
   ],
   "source": [
    "b=b.upper()\n",
    "b"
   ]
  },
  {
   "cell_type": "code",
   "execution_count": 33,
   "id": "4085c702-8f9d-42f3-9d1a-82fc741d0d4b",
   "metadata": {},
   "outputs": [
    {
     "data": {
      "text/plain": [
       "'python'"
      ]
     },
     "execution_count": 33,
     "metadata": {},
     "output_type": "execute_result"
    }
   ],
   "source": [
    "b=b.lower()\n",
    "b"
   ]
  },
  {
   "cell_type": "code",
   "execution_count": 34,
   "id": "da809dc8-9817-41de-98a6-e5d31d5eda61",
   "metadata": {},
   "outputs": [
    {
     "data": {
      "text/plain": [
       "False"
      ]
     },
     "execution_count": 34,
     "metadata": {},
     "output_type": "execute_result"
    }
   ],
   "source": [
    "b.isupper()"
   ]
  },
  {
   "cell_type": "code",
   "execution_count": 35,
   "id": "a282bbeb-a027-4d84-a0fb-523a6863bfb6",
   "metadata": {},
   "outputs": [
    {
     "data": {
      "text/plain": [
       "True"
      ]
     },
     "execution_count": 35,
     "metadata": {},
     "output_type": "execute_result"
    }
   ],
   "source": [
    "b.islower()"
   ]
  },
  {
   "cell_type": "code",
   "execution_count": 36,
   "id": "d343073b-d681-4532-8ac9-c618e6846f16",
   "metadata": {},
   "outputs": [
    {
     "data": {
      "text/plain": [
       "'saya sedang belajar'"
      ]
     },
     "execution_count": 36,
     "metadata": {},
     "output_type": "execute_result"
    }
   ],
   "source": [
    "s=' '.join(['saya','sedang','belajar'])\n",
    "s"
   ]
  },
  {
   "cell_type": "code",
   "execution_count": 37,
   "id": "10008bea-65af-4951-a94f-20c74d5da4be",
   "metadata": {},
   "outputs": [],
   "source": [
    "nim='200601110033'"
   ]
  },
  {
   "cell_type": "code",
   "execution_count": 38,
   "id": "45ff19ab-503d-4f99-9a57-7aee3a37e430",
   "metadata": {},
   "outputs": [
    {
     "data": {
      "text/plain": [
       "True"
      ]
     },
     "execution_count": 38,
     "metadata": {},
     "output_type": "execute_result"
    }
   ],
   "source": [
    "nim.isnumeric()"
   ]
  },
  {
   "cell_type": "code",
   "execution_count": 39,
   "id": "58cf72e6-e834-4a85-95df-4ea5a389a5f5",
   "metadata": {},
   "outputs": [],
   "source": [
    "nim='20060110o33'"
   ]
  },
  {
   "cell_type": "code",
   "execution_count": 40,
   "id": "9995ce04-e7c5-4eda-95d8-d8e40ff97303",
   "metadata": {},
   "outputs": [
    {
     "data": {
      "text/plain": [
       "False"
      ]
     },
     "execution_count": 40,
     "metadata": {},
     "output_type": "execute_result"
    }
   ],
   "source": [
    "nim.isnumeric()"
   ]
  },
  {
   "cell_type": "code",
   "execution_count": null,
   "id": "f61a2f1f-6b97-491a-8868-8d0fcb65ecac",
   "metadata": {},
   "outputs": [],
   "source": []
  }
 ],
 "metadata": {
  "kernelspec": {
   "display_name": "Python 3 (ipykernel)",
   "language": "python",
   "name": "python3"
  },
  "language_info": {
   "codemirror_mode": {
    "name": "ipython",
    "version": 3
   },
   "file_extension": ".py",
   "mimetype": "text/x-python",
   "name": "python",
   "nbconvert_exporter": "python",
   "pygments_lexer": "ipython3",
   "version": "3.10.2"
  }
 },
 "nbformat": 4,
 "nbformat_minor": 5
}
