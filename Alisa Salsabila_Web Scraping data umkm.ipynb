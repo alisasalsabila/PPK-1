{
  "nbformat": 4,
  "nbformat_minor": 0,
  "metadata": {
    "colab": {
      "name": "web scraping bps umkm.ipynb",
      "provenance": [],
      "collapsed_sections": []
    },
    "kernelspec": {
      "name": "python3",
      "display_name": "Python 3"
    },
    "language_info": {
      "name": "python"
    }
  },
  "cells": [
    {
      "cell_type": "code",
      "execution_count": null,
      "metadata": {
        "id": "5nDX0kyxY-Ni"
      },
      "outputs": [],
      "source": [
        "#!pip install beautifulsoup4\n",
        "#!pip install requests\n",
        "import pandas as pd\n",
        "from bs4 import BeautifulSoup\n",
        "from urllib.request import Request, urlopen"
      ]
    },
    {
      "cell_type": "code",
      "source": [
        "alamat = \"https://malangkota.bps.go.id/indicator/33/122/2/jumlah-tempat-usaha-dan-pedagang-di-kota-malang.html\"\n",
        "req = Request(alamat, headers={'User-Agent': 'Microsoft Edge/101.0'})\n",
        "html = urlopen(req).read()\n",
        "data = BeautifulSoup(html, 'html.parser')\n",
        "d15 = data.find_all('td', {'class': 'text-right'})[0]\n",
        "d16 = data.find_all('td', {'class': 'text-right'})[1]\n",
        "d17 = data.find_all('td', {'class': 'text-right'})[2]\n",
        "print(d15.text)\n",
        "print(d16.text)\n",
        "print(d17.text)\n",
        "\n",
        "alamat = \"https://malangkota.bps.go.id/indicator/33/122/1/jumlah-tempat-usaha-dan-pedagang-di-kota-malang.html\"\n",
        "req = Request(alamat, headers={'User-Agent': 'Microsoft Edge/101.0'})\n",
        "html = urlopen(req).read()\n",
        "data = BeautifulSoup(html, 'html.parser')\n",
        "d18 = data.find_all('td', {'class': 'text-right'})[0]\n",
        "d19 = data.find_all('td', {'class': 'text-right'})[1]\n",
        "d20 = data.find_all('td', {'class': 'text-right'})[2]\n",
        "print(d18.text)\n",
        "print(d19.text)\n",
        "print(d20.text)\n",
        "\n",
        "tahun=[2015,2016,2017,2018,2019,2020]\n",
        "data=[float(d15.text),float(d16.text),float(d17.text),float(d18.text),float(d19.text),float(d20.text)]\n",
        "print(tahun,data)"
      ],
      "metadata": {
        "colab": {
          "base_uri": "https://localhost:8080/"
        },
        "id": "FiU7fpKsupWP",
        "outputId": "44234a6b-b782-4b96-cc25-117a75577fc0"
      },
      "execution_count": null,
      "outputs": [
        {
          "output_type": "stream",
          "name": "stdout",
          "text": [
            "1816\n",
            "1815\n",
            "1815\n",
            "1815\n",
            "1815\n",
            "1803\n",
            "[2015, 2016, 2017, 2018, 2019, 2020] [1816.0, 1815.0, 1815.0, 1815.0, 1815.0, 1803.0]\n"
          ]
        }
      ]
    },
    {
      "cell_type": "code",
      "source": [
        "import numpy as np\n",
        "import matplotlib as mpl\n",
        "import matplotlib.pyplot as plt\n",
        "\n",
        "fig, ax = plt.subplots()\n",
        "ax.plot(tahun,data,color='green', marker='s')\n",
        "for i in range(len(tahun)):\n",
        "  ax.text(tahun[i]-0.2,data[i]+0.1,data[i])\n",
        "ax.set_title('Jumlah Tempat Usaha dan Pedagang di Kota Malang')\n",
        "ax.set_xlabel('Tahun')\n",
        "ax.set_ylabel('Jumlah')\n",
        "ax.set_ylim(1801,1817)\n",
        "ax.set_xlim(2014.5,2020.5)"
      ],
      "metadata": {
        "colab": {
          "base_uri": "https://localhost:8080/",
          "height": 312
        },
        "id": "-uid9hjd25O9",
        "outputId": "a5191c30-bb60-4608-835e-ccf388f28056"
      },
      "execution_count": null,
      "outputs": [
        {
          "output_type": "execute_result",
          "data": {
            "text/plain": [
              "(2014.5, 2020.5)"
            ]
          },
          "metadata": {},
          "execution_count": 12
        },
        {
          "output_type": "display_data",
          "data": {
            "text/plain": [
              "<Figure size 432x288 with 1 Axes>"
            ],
            "image/png": "[encoded data removed]"
          },
          "metadata": {
            "needs_background": "light"
          }
        }
      ]
    }
  ]
}