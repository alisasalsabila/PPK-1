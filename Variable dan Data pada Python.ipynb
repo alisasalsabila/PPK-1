{
 "cells": [
  {
   "cell_type": "markdown",
   "id": "60cc44e6-c128-401b-831a-9f15cbca4fe2",
   "metadata": {
    "tags": []
   },
   "source": [
    "# Variable dan Tipe Datapada Python"
   ]
  },
  {
   "cell_type": "code",
   "execution_count": 1,
   "id": "f0cf36ed-6e14-40ae-a299-4e20634a92b9",
   "metadata": {},
   "outputs": [
    {
     "name": "stdout",
     "output_type": "stream",
     "text": [
      "16\n"
     ]
    }
   ],
   "source": [
    "Panjang=4\n",
    "Lebar=4\n",
    "Luas=Panjang*Lebar\n",
    "print(Luas)"
   ]
  },
  {
   "cell_type": "code",
   "execution_count": 2,
   "id": "81d2a94f-8888-426c-bfed-cf3da11aefe0",
   "metadata": {},
   "outputs": [
    {
     "name": "stdout",
     "output_type": "stream",
     "text": [
      "1\n",
      "2\n"
     ]
    }
   ],
   "source": [
    "a=1\n",
    "A=2\n",
    "print(a)\n",
    "print(A)"
   ]
  },
  {
   "cell_type": "code",
   "execution_count": 3,
   "id": "24000435-06d2-4e8f-9db5-5ed32c37ef14",
   "metadata": {},
   "outputs": [
    {
     "name": "stdout",
     "output_type": "stream",
     "text": [
      "10\n"
     ]
    }
   ],
   "source": [
    "Tinggi_Tanaman=10\n",
    "print(Tinggi_Tanaman)"
   ]
  },
  {
   "cell_type": "code",
   "execution_count": 5,
   "id": "fb31a9cf-9b00-4d38-82d4-c86e35460017",
   "metadata": {},
   "outputs": [
    {
     "data": {
      "text/plain": [
       "float"
      ]
     },
     "execution_count": 5,
     "metadata": {},
     "output_type": "execute_result"
    }
   ],
   "source": [
    "A=1.4\n",
    "type(A)"
   ]
  },
  {
   "cell_type": "code",
   "execution_count": 7,
   "id": "415203af-b5d5-4927-9619-f7f5ed904dc9",
   "metadata": {},
   "outputs": [
    {
     "name": "stdout",
     "output_type": "stream",
     "text": [
      "Saya sedang belajar\n"
     ]
    }
   ],
   "source": [
    "B = \"Saya sedang belajar\"\n",
    "type(B)\n",
    "print(B)"
   ]
  },
  {
   "cell_type": "code",
   "execution_count": 10,
   "id": "7657285f-ce19-48d1-935a-6a7ac018b084",
   "metadata": {},
   "outputs": [
    {
     "name": "stdout",
     "output_type": "stream",
     "text": [
      "Saya belum sarapan\n"
     ]
    }
   ],
   "source": [
    "A = \"Saya\"\n",
    "B = \" belum sarapan\"\n",
    "C=A+B\n",
    "print(C)"
   ]
  },
  {
   "cell_type": "code",
   "execution_count": 11,
   "id": "e8e2f50e-7b6b-4b78-a8ab-3d74ae101288",
   "metadata": {},
   "outputs": [
    {
     "data": {
      "text/plain": [
       "bool"
      ]
     },
     "execution_count": 11,
     "metadata": {},
     "output_type": "execute_result"
    }
   ],
   "source": [
    "Nyala = False\n",
    "type(Nyala)"
   ]
  },
  {
   "cell_type": "code",
   "execution_count": 13,
   "id": "192fad31-dbed-4a3d-81b9-1fa3430fa69a",
   "metadata": {},
   "outputs": [
    {
     "name": "stdout",
     "output_type": "stream",
     "text": [
      "[1, 'a', 1.3]\n"
     ]
    },
    {
     "data": {
      "text/plain": [
       "1"
      ]
     },
     "execution_count": 13,
     "metadata": {},
     "output_type": "execute_result"
    }
   ],
   "source": [
    "A=[1, 'a', 1.3]\n",
    "type(A)\n",
    "print(A)\n",
    "A[0]"
   ]
  },
  {
   "cell_type": "code",
   "execution_count": 14,
   "id": "2e28d720-078b-46e3-aaeb-a53e77a988d0",
   "metadata": {},
   "outputs": [
    {
     "data": {
      "text/plain": [
       "float"
      ]
     },
     "execution_count": 14,
     "metadata": {},
     "output_type": "execute_result"
    }
   ],
   "source": [
    "B=2.5*2\n",
    "type(B)"
   ]
  },
  {
   "cell_type": "code",
   "execution_count": 15,
   "id": "8b0dabf5-ea4d-4bf9-b977-b3952cd8ecd5",
   "metadata": {},
   "outputs": [
    {
     "data": {
      "text/plain": [
       "int"
      ]
     },
     "execution_count": 15,
     "metadata": {},
     "output_type": "execute_result"
    }
   ],
   "source": [
    "A=int(2.5*2)\n",
    "type(A)"
   ]
  },
  {
   "cell_type": "code",
   "execution_count": 16,
   "id": "d07a9a61-5de6-413a-8ba6-c5f26c8959de",
   "metadata": {},
   "outputs": [
    {
     "data": {
      "text/plain": [
       "float"
      ]
     },
     "execution_count": 16,
     "metadata": {},
     "output_type": "execute_result"
    }
   ],
   "source": [
    "B=float(2.5*2)\n",
    "type(B)"
   ]
  },
  {
   "cell_type": "code",
   "execution_count": 17,
   "id": "b8724bd6-544e-489a-8663-414530109e2f",
   "metadata": {},
   "outputs": [
    {
     "data": {
      "text/plain": [
       "str"
      ]
     },
     "execution_count": 17,
     "metadata": {},
     "output_type": "execute_result"
    }
   ],
   "source": [
    "C=str(2.5*2)\n",
    "type(C)"
   ]
  },
  {
   "cell_type": "code",
   "execution_count": 20,
   "id": "cbe75527-4070-4a40-9834-df5ccea9228f",
   "metadata": {},
   "outputs": [
    {
     "data": {
      "text/plain": [
       "int"
      ]
     },
     "execution_count": 20,
     "metadata": {},
     "output_type": "execute_result"
    }
   ],
   "source": [
    "A=3\n",
    "B=4\n",
    "type(A)"
   ]
  },
  {
   "cell_type": "code",
   "execution_count": 19,
   "id": "594f25b3-898c-4124-8003-61335f043d23",
   "metadata": {},
   "outputs": [
    {
     "data": {
      "text/plain": [
       "float"
      ]
     },
     "execution_count": 19,
     "metadata": {},
     "output_type": "execute_result"
    }
   ],
   "source": [
    "C=(A**2+B**2)**(0.5)\n",
    "type(C)"
   ]
  },
  {
   "cell_type": "code",
   "execution_count": 21,
   "id": "3b6bbfd2-fae5-41fe-a909-af87f04ef96a",
   "metadata": {},
   "outputs": [
    {
     "name": "stdout",
     "output_type": "stream",
     "text": [
      "1\n"
     ]
    }
   ],
   "source": [
    "C=5%2\n",
    "print(C)"
   ]
  },
  {
   "cell_type": "code",
   "execution_count": 23,
   "id": "ce74fa72-e8fe-4fa2-a55d-1af736b8d707",
   "metadata": {},
   "outputs": [
    {
     "name": "stdout",
     "output_type": "stream",
     "text": [
      "[1, 2, 3, 4, 2, 3, 4, 6]\n"
     ]
    }
   ],
   "source": [
    "B=[1,2,3,4]\n",
    "C=[2,3,4,6]\n",
    "D=B+C\n",
    "print(D)"
   ]
  },
  {
   "cell_type": "code",
   "execution_count": 25,
   "id": "dfb79ffd-e00e-4dd9-a0ae-c9fa77293224",
   "metadata": {},
   "outputs": [
    {
     "name": "stdout",
     "output_type": "stream",
     "text": [
      "['Aku', 'Sedang', 'Belajar']\n"
     ]
    }
   ],
   "source": [
    "E=[\"Aku\",\"Sedang\",\"Belajar\"]\n",
    "print(E)"
   ]
  },
  {
   "cell_type": "code",
   "execution_count": 27,
   "id": "efa75592-0047-49ed-9bbb-20b93328826a",
   "metadata": {},
   "outputs": [
    {
     "name": "stdout",
     "output_type": "stream",
     "text": [
      "['Kamu', 'Sedang', 'Belajar']\n"
     ]
    }
   ],
   "source": [
    "E[0]=\"Kamu\"\n",
    "print(E)"
   ]
  },
  {
   "cell_type": "code",
   "execution_count": 28,
   "id": "3ca2357b-4058-4e0a-ace8-411e62ea7221",
   "metadata": {},
   "outputs": [
    {
     "data": {
      "text/plain": [
       "3"
      ]
     },
     "execution_count": 28,
     "metadata": {},
     "output_type": "execute_result"
    }
   ],
   "source": [
    "len(E)"
   ]
  },
  {
   "cell_type": "code",
   "execution_count": 29,
   "id": "06429a63-d5a5-49c4-9656-6b79a0eb176c",
   "metadata": {},
   "outputs": [
    {
     "name": "stdout",
     "output_type": "stream",
     "text": [
      "<class 'dict'>\n"
     ]
    }
   ],
   "source": [
    "F={\"nama\": \"Angga\", \"NIP\": \"1234567\"}\n",
    "print(type(F))"
   ]
  },
  {
   "cell_type": "code",
   "execution_count": 30,
   "id": "b4c212ad-c01f-430a-a953-107c64667c9d",
   "metadata": {},
   "outputs": [
    {
     "data": {
      "text/plain": [
       "'Angga'"
      ]
     },
     "execution_count": 30,
     "metadata": {},
     "output_type": "execute_result"
    }
   ],
   "source": [
    "F[\"nama\"]"
   ]
  },
  {
   "cell_type": "code",
   "execution_count": 32,
   "id": "6501d6f1-2675-4dbe-98b9-bae9efc096d7",
   "metadata": {},
   "outputs": [
    {
     "name": "stdout",
     "output_type": "stream",
     "text": [
      "[1, 4, 2, 3, 4]\n"
     ]
    }
   ],
   "source": [
    "A=[1,4,2,3,4]\n",
    "print(A)"
   ]
  },
  {
   "cell_type": "code",
   "execution_count": 36,
   "id": "7599557b-99f3-438f-8a4f-cccec7031734",
   "metadata": {},
   "outputs": [
    {
     "name": "stdout",
     "output_type": "stream",
     "text": [
      "[1, 2, 3, 4, 4]\n",
      "[1, 2, 3, 4, 4]\n"
     ]
    }
   ],
   "source": [
    "A.sort()\n",
    "print(A)\n",
    "B=A\n",
    "print(B)"
   ]
  },
  {
   "cell_type": "code",
   "execution_count": 37,
   "id": "626d298c-8021-4cf2-85b4-e98f2b67c229",
   "metadata": {},
   "outputs": [
    {
     "name": "stdout",
     "output_type": "stream",
     "text": [
      "[1, 2, 3, 4, 4, 4]\n"
     ]
    }
   ],
   "source": [
    "A.append(4)\n",
    "print(A)"
   ]
  },
  {
   "cell_type": "code",
   "execution_count": 38,
   "id": "a9f42cf0-0bed-4fdd-b620-8917a5a6d82b",
   "metadata": {},
   "outputs": [
    {
     "name": "stdout",
     "output_type": "stream",
     "text": [
      "[]\n"
     ]
    }
   ],
   "source": [
    "A.clear()\n",
    "print(A)"
   ]
  },
  {
   "cell_type": "code",
   "execution_count": 40,
   "id": "a1026998-9a3d-4e90-92cd-d6a41b40d5ac",
   "metadata": {},
   "outputs": [
    {
     "name": "stdout",
     "output_type": "stream",
     "text": [
      "[1, 2, 4]\n"
     ]
    }
   ],
   "source": [
    "A=[1,2,3,4]\n",
    "A.remove(3)\n",
    "print(A)"
   ]
  },
  {
   "cell_type": "code",
   "execution_count": 42,
   "id": "cf485586-8e6e-4611-819c-f3674c0be9c0",
   "metadata": {},
   "outputs": [
    {
     "name": "stdout",
     "output_type": "stream",
     "text": [
      "['Apel', 'Mangga']\n"
     ]
    }
   ],
   "source": [
    "B=[\"Apel\", \"Mangga\", \"Melon\"]\n",
    "B.remove(\"Melon\")\n",
    "print(B)"
   ]
  },
  {
   "cell_type": "code",
   "execution_count": 43,
   "id": "e4c29890-c792-488a-a426-5d0034365aa8",
   "metadata": {},
   "outputs": [
    {
     "name": "stdout",
     "output_type": "stream",
     "text": [
      "['Pisang', 'Apel', 'Mangga']\n"
     ]
    }
   ],
   "source": [
    "B.insert(0, \"Pisang\")\n",
    "print(B)"
   ]
  },
  {
   "cell_type": "code",
   "execution_count": 44,
   "id": "46244898-1626-4118-85b3-979bf4578994",
   "metadata": {},
   "outputs": [
    {
     "data": {
      "text/plain": [
       "1"
      ]
     },
     "execution_count": 44,
     "metadata": {},
     "output_type": "execute_result"
    }
   ],
   "source": [
    "B.index(\"Apel\")"
   ]
  },
  {
   "cell_type": "code",
   "execution_count": 45,
   "id": "d7d84e2d-666a-4731-8efe-9c5725d8ea8c",
   "metadata": {},
   "outputs": [
    {
     "name": "stdout",
     "output_type": "stream",
     "text": [
      "['Pisang', 'Apel', 'Mangga', 'Apel']\n"
     ]
    }
   ],
   "source": [
    "B.insert(3, \"Apel\")\n",
    "print(B)"
   ]
  },
  {
   "cell_type": "code",
   "execution_count": 46,
   "id": "bb8bd2b3-87d1-46d9-9a64-91ac65f45a62",
   "metadata": {},
   "outputs": [
    {
     "data": {
      "text/plain": [
       "1"
      ]
     },
     "execution_count": 46,
     "metadata": {},
     "output_type": "execute_result"
    }
   ],
   "source": [
    "B.index(\"Apel\")"
   ]
  },
  {
   "cell_type": "code",
   "execution_count": 47,
   "id": "b67b54ba-fb41-4dcf-bfe4-3cd1dfafbdcb",
   "metadata": {},
   "outputs": [
    {
     "name": "stdout",
     "output_type": "stream",
     "text": [
      "['Apel', 'Apel', 'Mangga', 'Pisang']\n"
     ]
    }
   ],
   "source": [
    "B.sort()\n",
    "print(B)"
   ]
  },
  {
   "cell_type": "code",
   "execution_count": 48,
   "id": "2c91b73e-954c-4fc5-9ba1-fa7fef3a9830",
   "metadata": {},
   "outputs": [
    {
     "name": "stdout",
     "output_type": "stream",
     "text": [
      "['Pisang', 'Mangga', 'Apel', 'Apel']\n"
     ]
    }
   ],
   "source": [
    "B.reverse()\n",
    "print(B)"
   ]
  },
  {
   "cell_type": "code",
   "execution_count": null,
   "id": "275611fd-4035-48b7-8b27-7cf5863855d4",
   "metadata": {},
   "outputs": [],
   "source": []
  }
 ],
 "metadata": {
  "kernelspec": {
   "display_name": "Python 3 (ipykernel)",
   "language": "python",
   "name": "python3"
  },
  "language_info": {
   "codemirror_mode": {
    "name": "ipython",
    "version": 3
   },
   "file_extension": ".py",
   "mimetype": "text/x-python",
   "name": "python",
   "nbconvert_exporter": "python",
   "pygments_lexer": "ipython3",
   "version": "3.10.2"
  }
 },
 "nbformat": 4,
 "nbformat_minor": 5
}
