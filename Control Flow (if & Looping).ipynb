{
 "cells": [
  {
   "cell_type": "markdown",
   "id": "f5582261-d4cd-4694-9371-e48e89e173c5",
   "metadata": {},
   "source": [
    "# Conditional if"
   ]
  },
  {
   "cell_type": "code",
   "execution_count": 2,
   "id": "63c79db8-efce-4187-95c3-d85f3835c5aa",
   "metadata": {},
   "outputs": [
    {
     "name": "stdin",
     "output_type": "stream",
     "text": [
      "Masukkan nilai Anda:  80\n"
     ]
    },
    {
     "name": "stdout",
     "output_type": "stream",
     "text": [
      "Anda lulus ujian! SELAMAT!\n"
     ]
    }
   ],
   "source": [
    "nilai = input(\"Masukkan nilai Anda: \")\n",
    "if int(nilai) >= 70:\n",
    "    print(\"Anda lulus ujian! SELAMAT!\")"
   ]
  },
  {
   "cell_type": "markdown",
   "id": "142d2660-0c63-4d2c-8cd3-c1701cdabf3f",
   "metadata": {},
   "source": [
    "# Conditional if-else"
   ]
  },
  {
   "cell_type": "code",
   "execution_count": 3,
   "id": "adc2d590-c6d0-4105-9f93-0fbce1855f85",
   "metadata": {},
   "outputs": [
    {
     "name": "stdout",
     "output_type": "stream",
     "text": [
      "Anda lulus ujian! SELAMAT!\n"
     ]
    }
   ],
   "source": [
    "if int(nilai) >= 70:\n",
    "    print (\"Anda lulus ujian! SELAMAT!\")\n",
    "else:\n",
    "    print(\"Anda belum lulus ujian!\")"
   ]
  },
  {
   "cell_type": "markdown",
   "id": "c9156a46-b85e-4152-b620-ebb382c06029",
   "metadata": {},
   "source": [
    "# Conditional if-elif-else"
   ]
  },
  {
   "cell_type": "code",
   "execution_count": 6,
   "id": "cc59d659-1edc-4584-a955-d1580c502ffd",
   "metadata": {},
   "outputs": [
    {
     "name": "stdout",
     "output_type": "stream",
     "text": [
      "Anda lulus ujian! SELAMAT\n"
     ]
    }
   ],
   "source": [
    "if int(nilai) < 0 or int(nilai) > 100:\n",
    "    print(\"Nilai Anda TIDAK valid\")\n",
    "elif int(nilai) >= 70:\n",
    "    print(\"Anda lulus ujian! SELAMAT\")\n",
    "else:\n",
    "    print(\"Anda belum lulus ujian!\")"
   ]
  },
  {
   "cell_type": "markdown",
   "id": "8ec2626e-8a75-4f8e-94b1-b569293b9c43",
   "metadata": {},
   "source": [
    "# While Loop"
   ]
  },
  {
   "cell_type": "code",
   "execution_count": 8,
   "id": "09cca170-0948-47be-a3d8-bef07fb360ef",
   "metadata": {},
   "outputs": [
    {
     "name": "stdout",
     "output_type": "stream",
     "text": [
      "0\n",
      "1\n",
      "2\n",
      "3\n",
      "4\n"
     ]
    }
   ],
   "source": [
    "count = 0\n",
    "while count < 5:\n",
    "    print(count)\n",
    "    count += 1"
   ]
  },
  {
   "cell_type": "markdown",
   "id": "e862eb08-2439-4a90-9577-f102ca9d79d1",
   "metadata": {
    "tags": []
   },
   "source": [
    "# For Loop"
   ]
  },
  {
   "cell_type": "code",
   "execution_count": 10,
   "id": "01bea541-4c2a-4672-bd29-44ce66b70a11",
   "metadata": {},
   "outputs": [
    {
     "name": "stdout",
     "output_type": "stream",
     "text": [
      "2\n",
      "3\n",
      "4\n",
      "7\n"
     ]
    }
   ],
   "source": [
    "primes = [2,3,4,7]\n",
    "for prime in primes:\n",
    "    print(prime)"
   ]
  },
  {
   "cell_type": "markdown",
   "id": "931ae10e-793e-4860-822d-1c5bd1a2c10c",
   "metadata": {},
   "source": [
    "# While Loop"
   ]
  },
  {
   "cell_type": "code",
   "execution_count": null,
   "id": "ed36aee8-705d-4aef-b106-6c1d3f4045ed",
   "metadata": {},
   "outputs": [],
   "source": []
  },
  {
   "cell_type": "code",
   "execution_count": 1,
   "id": "37f77a5e-d906-40d5-a339-82dd6c291f23",
   "metadata": {},
   "outputs": [
    {
     "name": "stdin",
     "output_type": "stream",
     "text": [
      "Masukkan nilai yang akan dihitung:  50\n"
     ]
    },
    {
     "data": {
      "text/plain": [
       "1276"
      ]
     },
     "execution_count": 1,
     "metadata": {},
     "output_type": "execute_result"
    }
   ],
   "source": [
    "def faktorial(n) :\n",
    "    fac = 1\n",
    "    i = 1\n",
    "    while i <= n:\n",
    "        fac = fac+i\n",
    "        i += 1\n",
    "    return fac\n",
    "angka = int(input(\"Masukkan nilai yang akan dihitung: \"))\n",
    "faktorial(angka)"
   ]
  },
  {
   "cell_type": "markdown",
   "id": "ac54f4ff-0319-4f0a-9f0d-c19c491f35d4",
   "metadata": {},
   "source": [
    "# For Loop"
   ]
  },
  {
   "cell_type": "code",
   "execution_count": 4,
   "id": "69813d40-83e6-45da-bb66-be5027a86115",
   "metadata": {},
   "outputs": [
    {
     "name": "stdout",
     "output_type": "stream",
     "text": [
      "1\n",
      "11\n",
      "31\n",
      "61\n",
      "101\n",
      "151\n"
     ]
    }
   ],
   "source": [
    "number = [1,10,20,30,40,50]\n",
    "sum = 0\n",
    "for number in number:\n",
    "    sum += number\n",
    "    print (sum)"
   ]
  },
  {
   "cell_type": "markdown",
   "id": "b196d376-1a8c-4910-a621-4846d5d45727",
   "metadata": {},
   "source": [
    "# Looping dengan Break"
   ]
  },
  {
   "cell_type": "code",
   "execution_count": 15,
   "id": "c63c96d4-bdc0-4325-9bcf-53d82fedc916",
   "metadata": {},
   "outputs": [
    {
     "name": "stdin",
     "output_type": "stream",
     "text": [
      "Masukkan Angka:  50\n",
      "Masukkan Angka:  67\n"
     ]
    }
   ],
   "source": [
    "b = 0\n",
    "while True:\n",
    "    angka = int(input(\"Masukkan Angka: \"))\n",
    "    b += angka\n",
    "    if b > 50:\n",
    "        break \n",
    "        print(\"Angka berhenti pada jumlah: \" + b)"
   ]
  },
  {
   "cell_type": "code",
   "execution_count": null,
   "id": "e2db15bf-9d71-4292-b132-16cef519430e",
   "metadata": {},
   "outputs": [],
   "source": []
  }
 ],
 "metadata": {
  "kernelspec": {
   "display_name": "Python 3 (ipykernel)",
   "language": "python",
   "name": "python3"
  },
  "language_info": {
   "codemirror_mode": {
    "name": "ipython",
    "version": 3
   },
   "file_extension": ".py",
   "mimetype": "text/x-python",
   "name": "python",
   "nbconvert_exporter": "python",
   "pygments_lexer": "ipython3",
   "version": "3.10.2"
  }
 },
 "nbformat": 4,
 "nbformat_minor": 5
}
