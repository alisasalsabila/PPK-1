{
 "cells": [
  {
   "cell_type": "markdown",
   "id": "305519e1-ec80-465f-bc93-e356d4c777ea",
   "metadata": {},
   "source": [
    "# **Tugas Praktikum Pemrograman Komputer 1**"
   ]
  },
  {
   "cell_type": "markdown",
   "id": "f83ce594-66eb-43c2-b2e7-91fbf432d406",
   "metadata": {},
   "source": [
    "Nama : Alisa Salsabila"
   ]
  },
  {
   "cell_type": "markdown",
   "id": "006e5574-6de2-440c-b62d-e1b8dcf41a21",
   "metadata": {},
   "source": [
    "NIM : 200601110033"
   ]
  },
  {
   "cell_type": "markdown",
   "id": "9dc3191a-6a50-479d-b4a9-2f134f018836",
   "metadata": {},
   "source": [
    "# Tugas No.1"
   ]
  },
  {
   "cell_type": "markdown",
   "id": "c452c5e5-091f-4d19-879d-d7fa571d131b",
   "metadata": {},
   "source": [
    "Buatlah program untuk menginputkan dua buah bilangan bulat, kemudian mencetak salah satu bilangan yang nilainya terbesar!"
   ]
  },
  {
   "cell_type": "code",
   "execution_count": 2,
   "id": "f72d74e9-7a72-4f05-ba25-7d15dc539957",
   "metadata": {},
   "outputs": [
    {
     "name": "stdout",
     "output_type": "stream",
     "text": [
      "program untuk menentukan bilangan terbesar dari dua bilangan bulat\n"
     ]
    },
    {
     "name": "stdin",
     "output_type": "stream",
     "text": [
      "Masukkan Bilangan 1:  5\n",
      "Masukkan Bilangan 2:  8\n"
     ]
    },
    {
     "name": "stdout",
     "output_type": "stream",
     "text": [
      "8 terbesar dan 5 terkecil\n",
      "\n",
      "ingin coba lagi ? (ya/tidak)\n"
     ]
    },
    {
     "name": "stdin",
     "output_type": "stream",
     "text": [
      " ya\n",
      "Masukkan Bilangan 1:  45\n",
      "Masukkan Bilangan 2:  990\n"
     ]
    },
    {
     "name": "stdout",
     "output_type": "stream",
     "text": [
      "990 terbesar dan 45 terkecil\n",
      "\n",
      "ingin coba lagi ? (ya/tidak)\n"
     ]
    },
    {
     "name": "stdin",
     "output_type": "stream",
     "text": [
      " tidak\n"
     ]
    },
    {
     "name": "stdout",
     "output_type": "stream",
     "text": [
      "Terima kasih semua\n"
     ]
    }
   ],
   "source": [
    "print ('program untuk menentukan bilangan terbesar dari dua bilangan bulat') \n",
    "\n",
    "def pengulangan():\n",
    "    a=input('Masukkan Bilangan 1: ')\n",
    "    b=input('Masukkan Bilangan 2: ')\n",
    "    if a>b :\n",
    "        print (a, 'terbesar dan',b, 'terkecil')\n",
    "    elif b>a :\n",
    "        print (b, 'terbesar dan',a, 'terkecil')\n",
    "\n",
    "    print ('')\n",
    "    print ('ingin coba lagi ? (ya/tidak)')\n",
    "    x=input()\n",
    "    if x=='ya':\n",
    "        return pengulangan()\n",
    "    if x=='tidak':\n",
    "        print('Terima kasih semua')\n",
    "        \n",
    "pengulangan()"
   ]
  },
  {
   "cell_type": "markdown",
   "id": "36727084-72f2-4ed4-b75d-ea0763836e37",
   "metadata": {},
   "source": [
    "# Tugas No.2"
   ]
  },
  {
   "cell_type": "markdown",
   "id": "badf697f-1cc8-4b7c-96ca-f7adc67adcc7",
   "metadata": {},
   "source": [
    "Pada akhir semester seorang dosen menghitung nilai akhir dari mahasiswa yang terdiri dari nilai uas, uts, kuis, dan tugas. Nilai akhir didapatkan dari 40% nilai uas, 30% nilai uts, 10% nilai kuis, dan 20% nilai tugas. Jika nilai akhir dari mahasiswa di bawah 65 maka mahasiswa tersebut akan mendapatkan remidi. Buatlah program untuk membantu mengetahui mahasiswa yang mendapatkan remidi berdasarkan nilai akhir yang didapatkannya!"
   ]
  },
  {
   "cell_type": "code",
   "execution_count": 3,
   "id": "0e252acb-5295-481a-b1e4-7d8eadff6e86",
   "metadata": {},
   "outputs": [
    {
     "name": "stdout",
     "output_type": "stream",
     "text": [
      "program menghitung nilai akhir mahasiswa\n"
     ]
    },
    {
     "name": "stdin",
     "output_type": "stream",
     "text": [
      "Masukkan Nama:  Alisa Salsabila\n",
      "Masukkan NIM:  200601110033\n",
      "Masukkan Mata Kuliah:  PPK 1\n",
      "Masukkan Semester:  4\n",
      "Masukkan Nilai UAS:  95\n",
      "Masukkan Nilai UTS:  80\n",
      "Masukkan Nilai Kuis:  85\n",
      "Masukkan Nilai Tugas:  75\n"
     ]
    },
    {
     "name": "stdout",
     "output_type": "stream",
     "text": [
      "=======HASIL PERHITUNGAN=======\n",
      "Nama: Alisa Salsabila\n",
      "NIM 200601110033\n",
      "Mata Kuliah PPK 1\n",
      "Semester 4\n",
      "Nilai UAS 95.0\n",
      "Nilai UTS 80.0\n",
      "Nilai Kuis 85.0\n",
      "Nilai Tugas 75.0\n",
      "Nilai Akhir 85.5\n",
      "Keterangan : ANDA SELAMAT DARI REMIDI\n",
      "\n",
      "INGIN INPUT NILAI LAGI ? (ya/tidak)\n"
     ]
    },
    {
     "name": "stdin",
     "output_type": "stream",
     "text": [
      " ya\n",
      "Masukkan Nama:  Salsabila\n",
      "Masukkan NIM:  12345678\n",
      "Masukkan Mata Kuliah:  pk 1\n",
      "Masukkan Semester:  4\n",
      "Masukkan Nilai UAS:  50\n",
      "Masukkan Nilai UTS:  54\n",
      "Masukkan Nilai Kuis:  55\n",
      "Masukkan Nilai Tugas:  60\n"
     ]
    },
    {
     "name": "stdout",
     "output_type": "stream",
     "text": [
      "=======HASIL PERHITUNGAN=======\n",
      "Nama: Salsabila\n",
      "NIM 12345678\n",
      "Mata Kuliah pk 1\n",
      "Semester 4\n",
      "Nilai UAS 50.0\n",
      "Nilai UTS 54.0\n",
      "Nilai Kuis 55.0\n",
      "Nilai Tugas 60.0\n",
      "Nilai Akhir 53.7\n",
      "Keterangan : REMIDI\n",
      "\n",
      "INGIN INPUT NILAI LAGI ? (ya/tidak)\n"
     ]
    },
    {
     "name": "stdin",
     "output_type": "stream",
     "text": [
      " tidak\n"
     ]
    },
    {
     "name": "stdout",
     "output_type": "stream",
     "text": [
      "BAIK, TERIMAKASIH !\n"
     ]
    }
   ],
   "source": [
    "print ('program menghitung nilai akhir mahasiswa')\n",
    "\n",
    "\n",
    "def pengulangan():\n",
    "    nama=input('Masukkan Nama: ')\n",
    "    nim=input('Masukkan NIM: ')\n",
    "    matkul=input('Masukkan Mata Kuliah: ')\n",
    "    smt=input('Masukkan Semester: ')\n",
    "    uas=float(input('Masukkan Nilai UAS: '))\n",
    "    uts=float(input('Masukkan Nilai UTS: '))\n",
    "    kuis=float(input('Masukkan Nilai Kuis: '))\n",
    "    tugas=float(input('Masukkan Nilai Tugas: '))\n",
    "\n",
    "    nilaiakhir=(uas*0.4)+(uts*0.3)+(kuis*0.1)+(tugas*0.2)\n",
    "\n",
    "    print('=======HASIL PERHITUNGAN=======')\n",
    "\n",
    "    print('Nama:' ,nama)\n",
    "    print('NIM' ,nim)\n",
    "    print('Mata Kuliah' ,matkul)\n",
    "    print('Semester' ,smt)\n",
    "    print('Nilai UAS' ,uas)\n",
    "    print('Nilai UTS' ,uts)\n",
    "    print('Nilai Kuis' ,kuis)\n",
    "    print('Nilai Tugas' ,tugas)\n",
    "    print('Nilai Akhir' ,nilaiakhir)\n",
    "\n",
    "    if nilaiakhir < 65:\n",
    "        print('Keterangan : MOHON MAAF ANDA REMIDI')\n",
    "    else :\n",
    "        print('Keterangan : SELAMAT ANDA TIDAK REMIDI')\n",
    "        1\n",
    "    print ('')\n",
    "    print ('INGIN INPUT NILAI LAGI ? (ya/tidak)')\n",
    "    x=input()\n",
    "    if x=='ya':\n",
    "        return pengulangan()\n",
    "    if x=='tidak':\n",
    "        print('BAIK, TERIMAKASIH !')\n",
    "        \n",
    "pengulangan()"
   ]
  },
  {
   "cell_type": "markdown",
   "id": "4827bb89-ce50-483d-b0e3-dde3af6d6db9",
   "metadata": {},
   "source": [
    "# Tugas No.3"
   ]
  },
  {
   "cell_type": "markdown",
   "id": "7c9bd995-a0f4-465b-956d-00e150cf7e39",
   "metadata": {},
   "source": [
    "Buatlah program kalkulator sederhana menggunakan Python. User akan memasukkan dua buah bilangan riil dan satu buah operator aritmatika (+, -, *, atau /), kemudian program akan mengoperasikan dua bilangan tersebut dengan operator yang sesuai. Contoh tampilan program:"
   ]
  },
  {
   "cell_type": "code",
   "execution_count": 4,
   "id": "43cea95c-0955-4f14-8eaa-b5353fc0c977",
   "metadata": {},
   "outputs": [
    {
     "name": "stdout",
     "output_type": "stream",
     "text": [
      "Program Perhitungan Kalkulator Sederhana\n",
      "Pilih Operasi: \n",
      "1.Penjumlahan\n",
      "2.Pengurangan\n",
      "3.Perkalian\n",
      "4.Pembagian\n"
     ]
    },
    {
     "name": "stdin",
     "output_type": "stream",
     "text": [
      "Masukkan pilihan(1/2/3/4):  3\n",
      "Masukkan bilangan pertama:  5\n",
      "Masukkan bilangan kedua:  8\n"
     ]
    },
    {
     "name": "stdout",
     "output_type": "stream",
     "text": [
      "5.0 * 8.0 = 40.0\n",
      "\n",
      "HITUNG LAGI YUK ! ? (y/t)\n"
     ]
    },
    {
     "name": "stdin",
     "output_type": "stream",
     "text": [
      " y\n"
     ]
    },
    {
     "name": "stdout",
     "output_type": "stream",
     "text": [
      "Pilih Operasi: \n",
      "1.Penjumlahan\n",
      "2.Pengurangan\n",
      "3.Perkalian\n",
      "4.Pembagian\n"
     ]
    },
    {
     "name": "stdin",
     "output_type": "stream",
     "text": [
      "Masukkan pilihan(1/2/3/4):  1\n",
      "Masukkan bilangan pertama:  2\n",
      "Masukkan bilangan kedua:  3\n"
     ]
    },
    {
     "name": "stdout",
     "output_type": "stream",
     "text": [
      "2.0 + 3.0 = 5.0\n",
      "\n",
      "HITUNG LAGI YUK ! ? (y/t)\n"
     ]
    },
    {
     "name": "stdin",
     "output_type": "stream",
     "text": [
      " t\n"
     ]
    },
    {
     "name": "stdout",
     "output_type": "stream",
     "text": [
      "BAIKLAH, TERIMA KASIH !\n"
     ]
    }
   ],
   "source": [
    "print ('Program Perhitungan Kalkulator Sederhana')\n",
    "\n",
    "def pengulangan():\n",
    "    #fungsi penjumlahan\n",
    "    def add(x,y):\n",
    "        return x+y\n",
    "\n",
    "    #fungsi pengurangan\n",
    "    def subtract(x,y):\n",
    "        return x-y\n",
    "\n",
    "    #fungsi perkalian\n",
    "    def multiply(x,y):\n",
    "        return x*y\n",
    "\n",
    "    #fungsi pembagian\n",
    "    def divide(x,y):\n",
    "        return x/y\n",
    "\n",
    "    #menu operasi\n",
    "    print(\"Pilih Operasi: \")\n",
    "    print(\"1.Penjumlahan\")\n",
    "    print(\"2.Pengurangan\")\n",
    "    print(\"3.Perkalian\")\n",
    "    print(\"4.Pembagian\")\n",
    "\n",
    "    #Meminta input dari user\n",
    "    choice = input(\"Masukkan pilihan(1/2/3/4): \")\n",
    "    a = float(input(\"Masukkan bilangan pertama: \"))\n",
    "    b = float(input(\"Masukkan bilangan kedua: \"))\n",
    "    if choice == '1':\n",
    "       print(a,\"+\",b,\"=\", add(a,b))\n",
    "    elif choice == '2':\n",
    "       print(a,\"-\",b,\"=\", subtract(a,b))\n",
    "    elif choice == '3':\n",
    "       print(a,\"*\",b,\"=\", multiply(a,b))\n",
    "    elif choice == '4':\n",
    "       print(a,\"/\",b,\"=\", divide(a,b))\n",
    "    else:\n",
    "       print(\"Input salah\")\n",
    "\n",
    "    print ('')\n",
    "    print ('HITUNG LAGI YUK ! ? (y/t)')\n",
    "    x=input()\n",
    "    if x=='y':\n",
    "        return pengulangan()\n",
    "    if x=='t':\n",
    "        print('BAIKLAH, TERIMA KASIH !')\n",
    "        \n",
    "pengulangan()"
   ]
  },
  {
   "cell_type": "code",
   "execution_count": null,
   "id": "0e18bee8-207b-4033-a2fd-88f997f38f40",
   "metadata": {},
   "outputs": [],
   "source": []
  }
 ],
 "metadata": {
  "kernelspec": {
   "display_name": "Python 3 (ipykernel)",
   "language": "python",
   "name": "python3"
  },
  "language_info": {
   "codemirror_mode": {
    "name": "ipython",
    "version": 3
   },
   "file_extension": ".py",
   "mimetype": "text/x-python",
   "name": "python",
   "nbconvert_exporter": "python",
   "pygments_lexer": "ipython3",
   "version": "3.10.2"
  }
 },
 "nbformat": 4,
 "nbformat_minor": 5
}
