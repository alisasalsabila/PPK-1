{
 "cells": [
  {
   "cell_type": "markdown",
   "metadata": {},
   "source": [
    "SymPy sangat berguna dalam melakukan perhitungan sains di Python, seperti integral, turunan, interpolasi, limit, fungsi-fungsi transenden dan lain sebagainya. Coba bedakan hasil akar 9 dan akar 8 berikut menggunakan math dan sympy."
   ]
  },
  {
   "cell_type": "code",
   "execution_count": 1,
   "metadata": {},
   "outputs": [
    {
     "name": "stdout",
     "output_type": "stream",
     "text": [
      "3.0 3 2.8284271247461903 2*sqrt(2)\n"
     ]
    }
   ],
   "source": [
    "import math as mt\n",
    "import sympy as sy\n",
    "a=mt.sqrt(9)\n",
    "b=sy.sqrt(9)\n",
    "c=mt.sqrt(8)\n",
    "d=sy.sqrt(8)\n",
    "print(a,b,c,d)"
   ]
  },
  {
   "cell_type": "code",
   "execution_count": 2,
   "metadata": {},
   "outputs": [
    {
     "name": "stdout",
     "output_type": "stream",
     "text": [
      "8.000000000000002 8\n"
     ]
    }
   ],
   "source": [
    "e=c**2\n",
    "f=d**2\n",
    "print(e,f)"
   ]
  },
  {
   "cell_type": "code",
   "execution_count": 3,
   "metadata": {},
   "outputs": [
    {
     "name": "stdout",
     "output_type": "stream",
     "text": [
      "expr= x + 2*y\n",
      "p1= x*(x + 2*y)\n",
      "p2= x**2 + 2*x*y\n"
     ]
    }
   ],
   "source": [
    "from sympy import symbols, expand, factor\n",
    "\n",
    "x,y=symbols('x y')\n",
    "expr=x+2*y\n",
    "p1=x*expr\n",
    "p2=expand(p1)\n",
    "\n",
    "print('expr=',expr)\n",
    "print('p1=',p1)\n",
    "print('p2=',p2)"
   ]
  },
  {
   "cell_type": "code",
   "execution_count": 4,
   "metadata": {},
   "outputs": [],
   "source": [
    "from sympy import *\n",
    "x,t,z,nu=symbols('x t z nu')\n",
    "init_printing(use_unicode=True)\n",
    "\n",
    "p1=sin(x)*exp(x)\n",
    "p2=diff(p1,x)\n",
    "p3=sin(x)*exp(x)+exp(x)*cos(x)\n",
    "p4=integrate(p3,x)\n",
    "p5=integrate(sin(x**2) ,(x,-oo,oo))"
   ]
  },
  {
   "cell_type": "code",
   "execution_count": 5,
   "metadata": {},
   "outputs": [
    {
     "data": {
      "image/png": "[encoded data removed]",
      "text/latex": [
       "$\\displaystyle \\left( e^{x} \\sin{\\left(x \\right)}, \\  e^{x} \\sin{\\left(x \\right)} + e^{x} \\cos{\\left(x \\right)}\\right)$"
      ],
      "text/plain": [
       "⎛ x          x           x       ⎞\n",
       "⎝ℯ ⋅sin(x), ℯ ⋅sin(x) + ℯ ⋅cos(x)⎠"
      ]
     },
     "execution_count": 5,
     "metadata": {},
     "output_type": "execute_result"
    }
   ],
   "source": [
    "p1,p2\n",
    "#mungkin prosesnya agak lama untuk pertama kali karena install sesuatu (ditunggu saja)"
   ]
  },
  {
   "cell_type": "code",
   "execution_count": 6,
   "metadata": {},
   "outputs": [
    {
     "data": {
      "image/png": "[encoded data removed]",
      "text/latex": [
       "$\\displaystyle \\left( e^{x} \\sin{\\left(x \\right)} + e^{x} \\cos{\\left(x \\right)}, \\  e^{x} \\sin{\\left(x \\right)}, \\  \\frac{\\sqrt{2} \\sqrt{\\pi}}{2}\\right)$"
      ],
      "text/plain": [
       "⎛ x           x          x         √2⋅√π⎞\n",
       "⎜ℯ ⋅sin(x) + ℯ ⋅cos(x), ℯ ⋅sin(x), ─────⎟\n",
       "⎝                                    2  ⎠"
      ]
     },
     "execution_count": 6,
     "metadata": {},
     "output_type": "execute_result"
    }
   ],
   "source": [
    "p3,p4,p5\n"
   ]
  },
  {
   "cell_type": "markdown",
   "metadata": {},
   "source": [
    "Sympy terdapat fungsi bawaan seperti limit, solve, dsolve dan simplify"
   ]
  },
  {
   "cell_type": "code",
   "execution_count": 7,
   "metadata": {},
   "outputs": [
    {
     "data": {
      "image/png": "[encoded data removed]",
      "text/latex": [
       "$\\displaystyle 1$"
      ],
      "text/plain": [
       "1"
      ]
     },
     "execution_count": 7,
     "metadata": {},
     "output_type": "execute_result"
    }
   ],
   "source": [
    "limit(sin(x)/x,x,0)"
   ]
  },
  {
   "cell_type": "code",
   "execution_count": 8,
   "metadata": {},
   "outputs": [
    {
     "data": {
      "image/png": "[encoded data removed]",
      "text/latex": [
       "$\\displaystyle \\left[ - \\sqrt{2}, \\  \\sqrt{2}\\right]$"
      ],
      "text/plain": [
       "[-√2, √2]"
      ]
     },
     "execution_count": 8,
     "metadata": {},
     "output_type": "execute_result"
    }
   ],
   "source": [
    "solve(x**2-2,x)"
   ]
  },
  {
   "cell_type": "code",
   "execution_count": 9,
   "metadata": {},
   "outputs": [
    {
     "data": {
      "image/png": "[encoded data removed]",
      "text/latex": [
       "$\\displaystyle f{\\left(x \\right)} = C_{1} \\sin{\\left(3 x \\right)} + C_{2} \\cos{\\left(3 x \\right)}$"
      ],
      "text/plain": [
       "f(x) = C₁⋅sin(3⋅x) + C₂⋅cos(3⋅x)"
      ]
     },
     "execution_count": 9,
     "metadata": {},
     "output_type": "execute_result"
    }
   ],
   "source": [
    "f = Function('f')\n",
    "dsolve(Derivative(f(x), x, x) + 9*f(x), f(x))"
   ]
  },
  {
   "cell_type": "code",
   "execution_count": 10,
   "metadata": {},
   "outputs": [
    {
     "data": {
      "image/png": "[encoded data removed]",
      "text/latex": [
       "$\\displaystyle 1$"
      ],
      "text/plain": [
       "1"
      ]
     },
     "execution_count": 10,
     "metadata": {},
     "output_type": "execute_result"
    }
   ],
   "source": [
    "simplify(sin(x)**2+cos(x)**2)"
   ]
  }
 ],
 "metadata": {
  "kernelspec": {
   "display_name": "Python 3",
   "language": "python",
   "name": "python3"
  },
  "language_info": {
   "codemirror_mode": {
    "name": "ipython",
    "version": 3
   },
   "file_extension": ".py",
   "mimetype": "text/x-python",
   "name": "python",
   "nbconvert_exporter": "python",
   "pygments_lexer": "ipython3",
   "version": "3.7.4"
  }
 },
 "nbformat": 4,
 "nbformat_minor": 2
}
